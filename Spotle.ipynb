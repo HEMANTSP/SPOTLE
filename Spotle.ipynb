{
 "cells": [
  {
   "cell_type": "markdown",
   "id": "3a771280",
   "metadata": {},
   "source": [
    "SUBMITTED BY- \n",
    "HEMANTH SANKAR P\n",
    "NATIONAL INSTITUTE OF TECHNOLOGY CALICUT"
   ]
  },
  {
   "cell_type": "code",
   "execution_count": 1,
   "id": "5541ccf0",
   "metadata": {},
   "outputs": [],
   "source": [
    "import numpy as np"
   ]
  },
  {
   "cell_type": "code",
   "execution_count": 2,
   "id": "c57cdddb",
   "metadata": {},
   "outputs": [],
   "source": [
    "import pandas as pd"
   ]
  },
  {
   "cell_type": "code",
   "execution_count": 3,
   "id": "a0f8641c",
   "metadata": {},
   "outputs": [],
   "source": [
    "data=pd.read_csv(\"state-wise-crop-production-India.csv\")"
   ]
  },
  {
   "cell_type": "code",
   "execution_count": 4,
   "id": "9dcbaaef",
   "metadata": {},
   "outputs": [
    {
     "data": {
      "text/plain": [
       "<bound method NDFrame.head of                              State  Year        Crop      Area  Production\n",
       "0      Andaman and Nicobar Islands  2000    Arecanut    4354.0      7200.0\n",
       "1      Andaman and Nicobar Islands  2000      Banana    1707.0     12714.0\n",
       "2      Andaman and Nicobar Islands  2000   Cashewnut     800.0       219.0\n",
       "3      Andaman and Nicobar Islands  2000    Coconut    25160.0  89000000.0\n",
       "4      Andaman and Nicobar Islands  2000  Dry ginger     388.0      1220.0\n",
       "...                            ...   ...         ...       ...         ...\n",
       "10699                  West Bengal  2013   Sugarcane   17021.0   1945042.0\n",
       "10700                  West Bengal  2013   Sunflower    6434.0      8717.0\n",
       "10701                  West Bengal  2013     Tobacco   12570.0     22287.0\n",
       "10702                  West Bengal  2013        Urad   70052.0     48810.0\n",
       "10703                  West Bengal  2013       Wheat  331481.0    927837.0\n",
       "\n",
       "[10704 rows x 5 columns]>"
      ]
     },
     "execution_count": 4,
     "metadata": {},
     "output_type": "execute_result"
    }
   ],
   "source": [
    "data.head"
   ]
  },
  {
   "cell_type": "code",
   "execution_count": 5,
   "id": "a4adb726",
   "metadata": {},
   "outputs": [
    {
     "data": {
      "text/plain": [
       "State         10704\n",
       "Year          10704\n",
       "Crop          10704\n",
       "Area          10704\n",
       "Production    10704\n",
       "dtype: int64"
      ]
     },
     "execution_count": 5,
     "metadata": {},
     "output_type": "execute_result"
    }
   ],
   "source": [
    "data.count()"
   ]
  },
  {
   "cell_type": "code",
   "execution_count": 6,
   "id": "cfc86e64",
   "metadata": {},
   "outputs": [
    {
     "data": {
      "text/html": [
       "<div>\n",
       "<style scoped>\n",
       "    .dataframe tbody tr th:only-of-type {\n",
       "        vertical-align: middle;\n",
       "    }\n",
       "\n",
       "    .dataframe tbody tr th {\n",
       "        vertical-align: top;\n",
       "    }\n",
       "\n",
       "    .dataframe thead th {\n",
       "        text-align: right;\n",
       "    }\n",
       "</style>\n",
       "<table border=\"1\" class=\"dataframe\">\n",
       "  <thead>\n",
       "    <tr style=\"text-align: right;\">\n",
       "      <th></th>\n",
       "      <th>State</th>\n",
       "      <th>Year</th>\n",
       "      <th>Crop</th>\n",
       "      <th>Area</th>\n",
       "      <th>Production</th>\n",
       "    </tr>\n",
       "  </thead>\n",
       "  <tbody>\n",
       "    <tr>\n",
       "      <th>0</th>\n",
       "      <td>Andaman and Nicobar Islands</td>\n",
       "      <td>2000</td>\n",
       "      <td>Arecanut</td>\n",
       "      <td>4354.0</td>\n",
       "      <td>7200.0</td>\n",
       "    </tr>\n",
       "    <tr>\n",
       "      <th>1</th>\n",
       "      <td>Andaman and Nicobar Islands</td>\n",
       "      <td>2000</td>\n",
       "      <td>Banana</td>\n",
       "      <td>1707.0</td>\n",
       "      <td>12714.0</td>\n",
       "    </tr>\n",
       "    <tr>\n",
       "      <th>2</th>\n",
       "      <td>Andaman and Nicobar Islands</td>\n",
       "      <td>2000</td>\n",
       "      <td>Cashewnut</td>\n",
       "      <td>800.0</td>\n",
       "      <td>219.0</td>\n",
       "    </tr>\n",
       "    <tr>\n",
       "      <th>3</th>\n",
       "      <td>Andaman and Nicobar Islands</td>\n",
       "      <td>2000</td>\n",
       "      <td>Coconut</td>\n",
       "      <td>25160.0</td>\n",
       "      <td>89000000.0</td>\n",
       "    </tr>\n",
       "    <tr>\n",
       "      <th>4</th>\n",
       "      <td>Andaman and Nicobar Islands</td>\n",
       "      <td>2000</td>\n",
       "      <td>Dry ginger</td>\n",
       "      <td>388.0</td>\n",
       "      <td>1220.0</td>\n",
       "    </tr>\n",
       "    <tr>\n",
       "      <th>...</th>\n",
       "      <td>...</td>\n",
       "      <td>...</td>\n",
       "      <td>...</td>\n",
       "      <td>...</td>\n",
       "      <td>...</td>\n",
       "    </tr>\n",
       "    <tr>\n",
       "      <th>10699</th>\n",
       "      <td>West Bengal</td>\n",
       "      <td>2013</td>\n",
       "      <td>Sugarcane</td>\n",
       "      <td>17021.0</td>\n",
       "      <td>1945042.0</td>\n",
       "    </tr>\n",
       "    <tr>\n",
       "      <th>10700</th>\n",
       "      <td>West Bengal</td>\n",
       "      <td>2013</td>\n",
       "      <td>Sunflower</td>\n",
       "      <td>6434.0</td>\n",
       "      <td>8717.0</td>\n",
       "    </tr>\n",
       "    <tr>\n",
       "      <th>10701</th>\n",
       "      <td>West Bengal</td>\n",
       "      <td>2013</td>\n",
       "      <td>Tobacco</td>\n",
       "      <td>12570.0</td>\n",
       "      <td>22287.0</td>\n",
       "    </tr>\n",
       "    <tr>\n",
       "      <th>10702</th>\n",
       "      <td>West Bengal</td>\n",
       "      <td>2013</td>\n",
       "      <td>Urad</td>\n",
       "      <td>70052.0</td>\n",
       "      <td>48810.0</td>\n",
       "    </tr>\n",
       "    <tr>\n",
       "      <th>10703</th>\n",
       "      <td>West Bengal</td>\n",
       "      <td>2013</td>\n",
       "      <td>Wheat</td>\n",
       "      <td>331481.0</td>\n",
       "      <td>927837.0</td>\n",
       "    </tr>\n",
       "  </tbody>\n",
       "</table>\n",
       "<p>10704 rows × 5 columns</p>\n",
       "</div>"
      ],
      "text/plain": [
       "                             State  Year        Crop      Area  Production\n",
       "0      Andaman and Nicobar Islands  2000    Arecanut    4354.0      7200.0\n",
       "1      Andaman and Nicobar Islands  2000      Banana    1707.0     12714.0\n",
       "2      Andaman and Nicobar Islands  2000   Cashewnut     800.0       219.0\n",
       "3      Andaman and Nicobar Islands  2000    Coconut    25160.0  89000000.0\n",
       "4      Andaman and Nicobar Islands  2000  Dry ginger     388.0      1220.0\n",
       "...                            ...   ...         ...       ...         ...\n",
       "10699                  West Bengal  2013   Sugarcane   17021.0   1945042.0\n",
       "10700                  West Bengal  2013   Sunflower    6434.0      8717.0\n",
       "10701                  West Bengal  2013     Tobacco   12570.0     22287.0\n",
       "10702                  West Bengal  2013        Urad   70052.0     48810.0\n",
       "10703                  West Bengal  2013       Wheat  331481.0    927837.0\n",
       "\n",
       "[10704 rows x 5 columns]"
      ]
     },
     "execution_count": 6,
     "metadata": {},
     "output_type": "execute_result"
    }
   ],
   "source": [
    "data"
   ]
  },
  {
   "cell_type": "code",
   "execution_count": 7,
   "id": "67943b84",
   "metadata": {},
   "outputs": [
    {
     "data": {
      "text/plain": [
       "array(['Andaman and Nicobar Islands', 'Andhra Pradesh',\n",
       "       'Arunachal Pradesh', 'Assam', 'Bihar', 'Chandigarh',\n",
       "       'Chhattisgarh', 'Dadra and Nagar Haveli', 'Goa', 'Gujarat',\n",
       "       'Haryana', 'Himachal Pradesh', 'Jammu and Kashmir ', 'Jharkhand',\n",
       "       'Karnataka', 'Kerala', 'Madhya Pradesh', 'Maharashtra', 'Manipur',\n",
       "       'Meghalaya', 'Mizoram', 'Nagaland', 'Odisha', 'Puducherry',\n",
       "       'Punjab', 'Rajasthan', 'Sikkim', 'Tamil Nadu', 'Telangana ',\n",
       "       'Tripura', 'Uttar Pradesh', 'Uttarakhand', 'West Bengal'],\n",
       "      dtype=object)"
      ]
     },
     "execution_count": 7,
     "metadata": {},
     "output_type": "execute_result"
    }
   ],
   "source": [
    "data[\"State\"].unique()"
   ]
  },
  {
   "cell_type": "code",
   "execution_count": 8,
   "id": "83eff8db",
   "metadata": {},
   "outputs": [],
   "source": [
    "States=data[\"State\"].unique()\n"
   ]
  },
  {
   "cell_type": "code",
   "execution_count": 9,
   "id": "f8813639",
   "metadata": {},
   "outputs": [
    {
     "data": {
      "text/plain": [
       "33"
      ]
     },
     "execution_count": 9,
     "metadata": {},
     "output_type": "execute_result"
    }
   ],
   "source": [
    "len(States)"
   ]
  },
  {
   "cell_type": "code",
   "execution_count": 10,
   "id": "1fca2870",
   "metadata": {},
   "outputs": [
    {
     "name": "stdout",
     "output_type": "stream",
     "text": [
      "<class 'pandas.core.frame.DataFrame'>\n",
      "RangeIndex: 10704 entries, 0 to 10703\n",
      "Data columns (total 5 columns):\n",
      " #   Column      Non-Null Count  Dtype  \n",
      "---  ------      --------------  -----  \n",
      " 0   State       10704 non-null  object \n",
      " 1   Year        10704 non-null  int64  \n",
      " 2   Crop        10704 non-null  object \n",
      " 3   Area        10704 non-null  float64\n",
      " 4   Production  10704 non-null  float64\n",
      "dtypes: float64(2), int64(1), object(2)\n",
      "memory usage: 418.2+ KB\n"
     ]
    }
   ],
   "source": [
    "data.info()"
   ]
  },
  {
   "cell_type": "code",
   "execution_count": 11,
   "id": "f064cb1d",
   "metadata": {},
   "outputs": [
    {
     "data": {
      "text/plain": [
       "array(['Arecanut', 'Banana', 'Cashewnut', 'Coconut ', 'Dry ginger',\n",
       "       'Other Kharif pulses', 'other oilseeds', 'Rice', 'Sugarcane',\n",
       "       'Sweet potato', 'Tapioca', 'Black pepper', 'Dry chillies',\n",
       "       'Turmeric', 'Arhar/Tur', 'Groundnut', 'Maize', 'Moong(Green Gram)',\n",
       "       'Sunflower', 'Urad', 'Bajra', 'Castor seed', 'Coriander',\n",
       "       'Cotton(lint)', 'Gram', 'Horse-gram', 'Jowar', 'Korra', 'Linseed',\n",
       "       'Mesta', 'Niger seed', 'Onion', 'Other  Rabi pulses',\n",
       "       'other misc. pulses', 'Potato', 'Ragi', 'Rapeseed &Mustard',\n",
       "       'Safflower', 'Samai', 'Sesamum', 'Small millets', 'Tobacco',\n",
       "       'Varagu', 'Wheat', 'Beans & Mutter(Vegetable)', 'Bhindi',\n",
       "       'Bottle Gourd', 'Brinjal', 'Cabbage', 'Citrus Fruit', 'Cucumber',\n",
       "       'Grapes', 'Mango', 'Orange', 'other fibres', 'Other Fresh Fruits',\n",
       "       'Other Vegetables', 'Papaya', 'Peas  (vegetable)', 'Pome Fruit',\n",
       "       'Soyabean', 'Tomato', 'Garlic', 'Ginger', 'Cowpea(Lobia)', 'Lemon',\n",
       "       'Pome Granet', 'Sapota', 'Sannhamp', 'Oilseeds total',\n",
       "       'Pulses total', 'Jute', 'Masoor', 'Peas & beans (Pulses)',\n",
       "       'Pineapple', 'Blackgram', 'Paddy', 'Barley', 'Khesari',\n",
       "       'Guar seed', 'Moth', 'Other Cereals & Millets', 'Carrot', 'Redish',\n",
       "       'Turnip', 'Cardamom', 'Arcanut (Processed)', 'Atcanut (Raw)',\n",
       "       'Cashewnut Processed', 'Cashewnut Raw', 'Coffee', 'Rubber', 'Tea',\n",
       "       'Bitter Gourd', 'Drum Stick', 'Jack Fruit', 'Snak Guard',\n",
       "       'Pump Kin', 'Cauliflower', 'Other Citrus Fruit', 'Water Melon',\n",
       "       'Kapas', 'Bean', 'Colocosia', 'Jobster', 'Lentil', 'Perilla',\n",
       "       'Rajmash Kholar', 'Ricebean (nagadal)', 'Apple', 'Ash Gourd',\n",
       "       'Beet Root', 'Ber', 'Lab-Lab', 'Litchi', 'Peach', 'Pear', 'Plums',\n",
       "       'Ribed Guard', 'Yam', 'Other Dry Fruit', 'Jute & mesta'],\n",
       "      dtype=object)"
      ]
     },
     "execution_count": 11,
     "metadata": {},
     "output_type": "execute_result"
    }
   ],
   "source": [
    "crops=data[\"Crop\"].unique()\n",
    "crops"
   ]
  },
  {
   "cell_type": "code",
   "execution_count": 12,
   "id": "c7bc815c",
   "metadata": {},
   "outputs": [
    {
     "data": {
      "text/plain": [
       "122"
      ]
     },
     "execution_count": 12,
     "metadata": {},
     "output_type": "execute_result"
    }
   ],
   "source": [
    "len(crops)"
   ]
  },
  {
   "cell_type": "code",
   "execution_count": 13,
   "id": "b6a5af2b",
   "metadata": {},
   "outputs": [
    {
     "data": {
      "text/html": [
       "<div>\n",
       "<style scoped>\n",
       "    .dataframe tbody tr th:only-of-type {\n",
       "        vertical-align: middle;\n",
       "    }\n",
       "\n",
       "    .dataframe tbody tr th {\n",
       "        vertical-align: top;\n",
       "    }\n",
       "\n",
       "    .dataframe thead th {\n",
       "        text-align: right;\n",
       "    }\n",
       "</style>\n",
       "<table border=\"1\" class=\"dataframe\">\n",
       "  <thead>\n",
       "    <tr style=\"text-align: right;\">\n",
       "      <th></th>\n",
       "      <th>State</th>\n",
       "      <th>Year</th>\n",
       "      <th>Crop</th>\n",
       "      <th>Area</th>\n",
       "      <th>Production</th>\n",
       "    </tr>\n",
       "  </thead>\n",
       "  <tbody>\n",
       "    <tr>\n",
       "      <th>0</th>\n",
       "      <td>Andaman and Nicobar Islands</td>\n",
       "      <td>2000</td>\n",
       "      <td>Arecanut</td>\n",
       "      <td>4354.0</td>\n",
       "      <td>7200.0</td>\n",
       "    </tr>\n",
       "    <tr>\n",
       "      <th>1</th>\n",
       "      <td>Andaman and Nicobar Islands</td>\n",
       "      <td>2000</td>\n",
       "      <td>Banana</td>\n",
       "      <td>1707.0</td>\n",
       "      <td>12714.0</td>\n",
       "    </tr>\n",
       "    <tr>\n",
       "      <th>2</th>\n",
       "      <td>Andaman and Nicobar Islands</td>\n",
       "      <td>2000</td>\n",
       "      <td>Cashewnut</td>\n",
       "      <td>800.0</td>\n",
       "      <td>219.0</td>\n",
       "    </tr>\n",
       "    <tr>\n",
       "      <th>3</th>\n",
       "      <td>Andaman and Nicobar Islands</td>\n",
       "      <td>2000</td>\n",
       "      <td>Coconut</td>\n",
       "      <td>25160.0</td>\n",
       "      <td>89000000.0</td>\n",
       "    </tr>\n",
       "    <tr>\n",
       "      <th>4</th>\n",
       "      <td>Andaman and Nicobar Islands</td>\n",
       "      <td>2000</td>\n",
       "      <td>Dry ginger</td>\n",
       "      <td>388.0</td>\n",
       "      <td>1220.0</td>\n",
       "    </tr>\n",
       "    <tr>\n",
       "      <th>...</th>\n",
       "      <td>...</td>\n",
       "      <td>...</td>\n",
       "      <td>...</td>\n",
       "      <td>...</td>\n",
       "      <td>...</td>\n",
       "    </tr>\n",
       "    <tr>\n",
       "      <th>10699</th>\n",
       "      <td>West Bengal</td>\n",
       "      <td>2013</td>\n",
       "      <td>Sugarcane</td>\n",
       "      <td>17021.0</td>\n",
       "      <td>1945042.0</td>\n",
       "    </tr>\n",
       "    <tr>\n",
       "      <th>10700</th>\n",
       "      <td>West Bengal</td>\n",
       "      <td>2013</td>\n",
       "      <td>Sunflower</td>\n",
       "      <td>6434.0</td>\n",
       "      <td>8717.0</td>\n",
       "    </tr>\n",
       "    <tr>\n",
       "      <th>10701</th>\n",
       "      <td>West Bengal</td>\n",
       "      <td>2013</td>\n",
       "      <td>Tobacco</td>\n",
       "      <td>12570.0</td>\n",
       "      <td>22287.0</td>\n",
       "    </tr>\n",
       "    <tr>\n",
       "      <th>10702</th>\n",
       "      <td>West Bengal</td>\n",
       "      <td>2013</td>\n",
       "      <td>Urad</td>\n",
       "      <td>70052.0</td>\n",
       "      <td>48810.0</td>\n",
       "    </tr>\n",
       "    <tr>\n",
       "      <th>10703</th>\n",
       "      <td>West Bengal</td>\n",
       "      <td>2013</td>\n",
       "      <td>Wheat</td>\n",
       "      <td>331481.0</td>\n",
       "      <td>927837.0</td>\n",
       "    </tr>\n",
       "  </tbody>\n",
       "</table>\n",
       "<p>10704 rows × 5 columns</p>\n",
       "</div>"
      ],
      "text/plain": [
       "                             State  Year        Crop      Area  Production\n",
       "0      Andaman and Nicobar Islands  2000    Arecanut    4354.0      7200.0\n",
       "1      Andaman and Nicobar Islands  2000      Banana    1707.0     12714.0\n",
       "2      Andaman and Nicobar Islands  2000   Cashewnut     800.0       219.0\n",
       "3      Andaman and Nicobar Islands  2000    Coconut    25160.0  89000000.0\n",
       "4      Andaman and Nicobar Islands  2000  Dry ginger     388.0      1220.0\n",
       "...                            ...   ...         ...       ...         ...\n",
       "10699                  West Bengal  2013   Sugarcane   17021.0   1945042.0\n",
       "10700                  West Bengal  2013   Sunflower    6434.0      8717.0\n",
       "10701                  West Bengal  2013     Tobacco   12570.0     22287.0\n",
       "10702                  West Bengal  2013        Urad   70052.0     48810.0\n",
       "10703                  West Bengal  2013       Wheat  331481.0    927837.0\n",
       "\n",
       "[10704 rows x 5 columns]"
      ]
     },
     "execution_count": 13,
     "metadata": {},
     "output_type": "execute_result"
    }
   ],
   "source": [
    "data"
   ]
  },
  {
   "cell_type": "code",
   "execution_count": 14,
   "id": "c34a3733",
   "metadata": {},
   "outputs": [
    {
     "data": {
      "text/plain": [
       "0            7200.0\n",
       "1           12714.0\n",
       "2             219.0\n",
       "3        89000000.0\n",
       "4            1220.0\n",
       "            ...    \n",
       "10699     1945042.0\n",
       "10700        8717.0\n",
       "10701       22287.0\n",
       "10702       48810.0\n",
       "10703      927837.0\n",
       "Name: Production, Length: 10704, dtype: float64"
      ]
     },
     "execution_count": 14,
     "metadata": {},
     "output_type": "execute_result"
    }
   ],
   "source": [
    "prod=data[\"Production\"]\n",
    "prod"
   ]
  },
  {
   "cell_type": "code",
   "execution_count": 15,
   "id": "bd6f0221",
   "metadata": {},
   "outputs": [
    {
     "data": {
      "text/plain": [
       "6326000000.0"
      ]
     },
     "execution_count": 15,
     "metadata": {},
     "output_type": "execute_result"
    }
   ],
   "source": [
    "max(prod)"
   ]
  },
  {
   "cell_type": "markdown",
   "id": "8f4d21ea",
   "metadata": {},
   "source": [
    "QUESTION 1"
   ]
  },
  {
   "cell_type": "code",
   "execution_count": 51,
   "id": "cf5e09c3",
   "metadata": {},
   "outputs": [
    {
     "data": {
      "text/html": [
       "<div>\n",
       "<style scoped>\n",
       "    .dataframe tbody tr th:only-of-type {\n",
       "        vertical-align: middle;\n",
       "    }\n",
       "\n",
       "    .dataframe tbody tr th {\n",
       "        vertical-align: top;\n",
       "    }\n",
       "\n",
       "    .dataframe thead th {\n",
       "        text-align: right;\n",
       "    }\n",
       "</style>\n",
       "<table border=\"1\" class=\"dataframe\">\n",
       "  <thead>\n",
       "    <tr style=\"text-align: right;\">\n",
       "      <th></th>\n",
       "      <th>State</th>\n",
       "      <th>Year</th>\n",
       "      <th>Area</th>\n",
       "      <th>Production</th>\n",
       "    </tr>\n",
       "    <tr>\n",
       "      <th>Crop</th>\n",
       "      <th></th>\n",
       "      <th></th>\n",
       "      <th></th>\n",
       "      <th></th>\n",
       "    </tr>\n",
       "  </thead>\n",
       "  <tbody>\n",
       "    <tr>\n",
       "      <th>0</th>\n",
       "      <td>27.000000</td>\n",
       "      <td>2002.500000</td>\n",
       "      <td>4.500000e+00</td>\n",
       "      <td>0.000000e+00</td>\n",
       "    </tr>\n",
       "    <tr>\n",
       "      <th>1</th>\n",
       "      <td>14.000000</td>\n",
       "      <td>2002.000000</td>\n",
       "      <td>1.441160e+05</td>\n",
       "      <td>1.928310e+05</td>\n",
       "    </tr>\n",
       "    <tr>\n",
       "      <th>2</th>\n",
       "      <td>14.120000</td>\n",
       "      <td>2006.280000</td>\n",
       "      <td>4.963545e+04</td>\n",
       "      <td>1.674254e+05</td>\n",
       "    </tr>\n",
       "    <tr>\n",
       "      <th>3</th>\n",
       "      <td>17.016949</td>\n",
       "      <td>2006.267797</td>\n",
       "      <td>1.545573e+05</td>\n",
       "      <td>1.060493e+05</td>\n",
       "    </tr>\n",
       "    <tr>\n",
       "      <th>4</th>\n",
       "      <td>27.000000</td>\n",
       "      <td>2002.500000</td>\n",
       "      <td>8.220000e+02</td>\n",
       "      <td>0.000000e+00</td>\n",
       "    </tr>\n",
       "    <tr>\n",
       "      <th>...</th>\n",
       "      <td>...</td>\n",
       "      <td>...</td>\n",
       "      <td>...</td>\n",
       "      <td>...</td>\n",
       "    </tr>\n",
       "    <tr>\n",
       "      <th>117</th>\n",
       "      <td>16.449275</td>\n",
       "      <td>2006.205797</td>\n",
       "      <td>1.084402e+06</td>\n",
       "      <td>3.136744e+06</td>\n",
       "    </tr>\n",
       "    <tr>\n",
       "      <th>118</th>\n",
       "      <td>27.000000</td>\n",
       "      <td>2002.500000</td>\n",
       "      <td>8.875000e+02</td>\n",
       "      <td>0.000000e+00</td>\n",
       "    </tr>\n",
       "    <tr>\n",
       "      <th>119</th>\n",
       "      <td>18.000000</td>\n",
       "      <td>2002.333333</td>\n",
       "      <td>4.212667e+03</td>\n",
       "      <td>0.000000e+00</td>\n",
       "    </tr>\n",
       "    <tr>\n",
       "      <th>120</th>\n",
       "      <td>10.800000</td>\n",
       "      <td>2001.800000</td>\n",
       "      <td>6.168600e+03</td>\n",
       "      <td>1.940844e+03</td>\n",
       "    </tr>\n",
       "    <tr>\n",
       "      <th>121</th>\n",
       "      <td>19.160714</td>\n",
       "      <td>2005.750000</td>\n",
       "      <td>3.888168e+04</td>\n",
       "      <td>6.003707e+04</td>\n",
       "    </tr>\n",
       "  </tbody>\n",
       "</table>\n",
       "<p>122 rows × 4 columns</p>\n",
       "</div>"
      ],
      "text/plain": [
       "          State         Year          Area    Production\n",
       "Crop                                                    \n",
       "0     27.000000  2002.500000  4.500000e+00  0.000000e+00\n",
       "1     14.000000  2002.000000  1.441160e+05  1.928310e+05\n",
       "2     14.120000  2006.280000  4.963545e+04  1.674254e+05\n",
       "3     17.016949  2006.267797  1.545573e+05  1.060493e+05\n",
       "4     27.000000  2002.500000  8.220000e+02  0.000000e+00\n",
       "...         ...          ...           ...           ...\n",
       "117   16.449275  2006.205797  1.084402e+06  3.136744e+06\n",
       "118   27.000000  2002.500000  8.875000e+02  0.000000e+00\n",
       "119   18.000000  2002.333333  4.212667e+03  0.000000e+00\n",
       "120   10.800000  2001.800000  6.168600e+03  1.940844e+03\n",
       "121   19.160714  2005.750000  3.888168e+04  6.003707e+04\n",
       "\n",
       "[122 rows x 4 columns]"
      ]
     },
     "execution_count": 51,
     "metadata": {},
     "output_type": "execute_result"
    }
   ],
   "source": [
    "means = data.groupby(data[\"Crop\"]).mean()\n",
    "means"
   ]
  },
  {
   "cell_type": "markdown",
   "id": "6df0b6e7",
   "metadata": {},
   "source": [
    "QUESTION 2"
   ]
  },
  {
   "cell_type": "code",
   "execution_count": 16,
   "id": "8700ac3c",
   "metadata": {},
   "outputs": [
    {
     "data": {
      "text/html": [
       "<div>\n",
       "<style scoped>\n",
       "    .dataframe tbody tr th:only-of-type {\n",
       "        vertical-align: middle;\n",
       "    }\n",
       "\n",
       "    .dataframe tbody tr th {\n",
       "        vertical-align: top;\n",
       "    }\n",
       "\n",
       "    .dataframe thead th {\n",
       "        text-align: right;\n",
       "    }\n",
       "</style>\n",
       "<table border=\"1\" class=\"dataframe\">\n",
       "  <thead>\n",
       "    <tr style=\"text-align: right;\">\n",
       "      <th></th>\n",
       "      <th>State</th>\n",
       "      <th>Year</th>\n",
       "      <th>Crop</th>\n",
       "      <th>Area</th>\n",
       "      <th>Production</th>\n",
       "    </tr>\n",
       "  </thead>\n",
       "  <tbody>\n",
       "    <tr>\n",
       "      <th>4651</th>\n",
       "      <td>Kerala</td>\n",
       "      <td>2005</td>\n",
       "      <td>Coconut</td>\n",
       "      <td>897833.0</td>\n",
       "      <td>6.326000e+09</td>\n",
       "    </tr>\n",
       "  </tbody>\n",
       "</table>\n",
       "</div>"
      ],
      "text/plain": [
       "       State  Year      Crop      Area    Production\n",
       "4651  Kerala  2005  Coconut   897833.0  6.326000e+09"
      ]
     },
     "execution_count": 16,
     "metadata": {},
     "output_type": "execute_result"
    }
   ],
   "source": [
    "m=data[data[\"Production\"]== max(prod)]\n",
    "m"
   ]
  },
  {
   "cell_type": "code",
   "execution_count": 17,
   "id": "d5c90e62",
   "metadata": {},
   "outputs": [
    {
     "data": {
      "text/plain": [
       "4651    Coconut \n",
       "Name: Crop, dtype: object"
      ]
     },
     "execution_count": 17,
     "metadata": {},
     "output_type": "execute_result"
    }
   ],
   "source": [
    "m[\"Crop\"]"
   ]
  },
  {
   "cell_type": "markdown",
   "id": "98772b03",
   "metadata": {},
   "source": [
    "QUESTION 4"
   ]
  },
  {
   "cell_type": "code",
   "execution_count": 18,
   "id": "de03eeff",
   "metadata": {},
   "outputs": [
    {
     "data": {
      "text/plain": [
       "9692    Uttar Pradesh\n",
       "Name: State, dtype: object"
      ]
     },
     "execution_count": 18,
     "metadata": {},
     "output_type": "execute_result"
    }
   ],
   "source": [
    "Crop_name=\"Wheat\"\n",
    "w=data[(data[\"Crop\"]== Crop_name)]\n",
    "l=w[w[\"Production\"]==max(w[\"Production\"])]\n",
    "l[\"State\"]"
   ]
  },
  {
   "cell_type": "code",
   "execution_count": 19,
   "id": "2e4d5c5f",
   "metadata": {},
   "outputs": [],
   "source": [
    "from sklearn import preprocessing\n",
    "s = preprocessing.LabelEncoder()\n"
   ]
  },
  {
   "cell_type": "code",
   "execution_count": 20,
   "id": "90702a63",
   "metadata": {},
   "outputs": [],
   "source": [
    "s.fit(data[\"State\"].unique())\n",
    "data[\"State\"]=s.fit_transform(data[\"State\"])"
   ]
  },
  {
   "cell_type": "code",
   "execution_count": 21,
   "id": "c460fe60",
   "metadata": {},
   "outputs": [],
   "source": [
    "s.fit(data[\"Crop\"].unique())\n",
    "data[\"Crop\"]=s.fit_transform(data[\"Crop\"])"
   ]
  },
  {
   "cell_type": "code",
   "execution_count": 22,
   "id": "8bd3bd67",
   "metadata": {},
   "outputs": [
    {
     "data": {
      "text/html": [
       "<div>\n",
       "<style scoped>\n",
       "    .dataframe tbody tr th:only-of-type {\n",
       "        vertical-align: middle;\n",
       "    }\n",
       "\n",
       "    .dataframe tbody tr th {\n",
       "        vertical-align: top;\n",
       "    }\n",
       "\n",
       "    .dataframe thead th {\n",
       "        text-align: right;\n",
       "    }\n",
       "</style>\n",
       "<table border=\"1\" class=\"dataframe\">\n",
       "  <thead>\n",
       "    <tr style=\"text-align: right;\">\n",
       "      <th></th>\n",
       "      <th>State</th>\n",
       "      <th>Year</th>\n",
       "      <th>Crop</th>\n",
       "      <th>Area</th>\n",
       "      <th>Production</th>\n",
       "    </tr>\n",
       "  </thead>\n",
       "  <tbody>\n",
       "    <tr>\n",
       "      <th>0</th>\n",
       "      <td>0</td>\n",
       "      <td>2000</td>\n",
       "      <td>2</td>\n",
       "      <td>4354.0</td>\n",
       "      <td>7200.0</td>\n",
       "    </tr>\n",
       "    <tr>\n",
       "      <th>1</th>\n",
       "      <td>0</td>\n",
       "      <td>2000</td>\n",
       "      <td>7</td>\n",
       "      <td>1707.0</td>\n",
       "      <td>12714.0</td>\n",
       "    </tr>\n",
       "    <tr>\n",
       "      <th>2</th>\n",
       "      <td>0</td>\n",
       "      <td>2000</td>\n",
       "      <td>22</td>\n",
       "      <td>800.0</td>\n",
       "      <td>219.0</td>\n",
       "    </tr>\n",
       "    <tr>\n",
       "      <th>3</th>\n",
       "      <td>0</td>\n",
       "      <td>2000</td>\n",
       "      <td>28</td>\n",
       "      <td>25160.0</td>\n",
       "      <td>89000000.0</td>\n",
       "    </tr>\n",
       "    <tr>\n",
       "      <th>4</th>\n",
       "      <td>0</td>\n",
       "      <td>2000</td>\n",
       "      <td>37</td>\n",
       "      <td>388.0</td>\n",
       "      <td>1220.0</td>\n",
       "    </tr>\n",
       "    <tr>\n",
       "      <th>...</th>\n",
       "      <td>...</td>\n",
       "      <td>...</td>\n",
       "      <td>...</td>\n",
       "      <td>...</td>\n",
       "      <td>...</td>\n",
       "    </tr>\n",
       "    <tr>\n",
       "      <th>10699</th>\n",
       "      <td>32</td>\n",
       "      <td>2013</td>\n",
       "      <td>105</td>\n",
       "      <td>17021.0</td>\n",
       "      <td>1945042.0</td>\n",
       "    </tr>\n",
       "    <tr>\n",
       "      <th>10700</th>\n",
       "      <td>32</td>\n",
       "      <td>2013</td>\n",
       "      <td>106</td>\n",
       "      <td>6434.0</td>\n",
       "      <td>8717.0</td>\n",
       "    </tr>\n",
       "    <tr>\n",
       "      <th>10701</th>\n",
       "      <td>32</td>\n",
       "      <td>2013</td>\n",
       "      <td>110</td>\n",
       "      <td>12570.0</td>\n",
       "      <td>22287.0</td>\n",
       "    </tr>\n",
       "    <tr>\n",
       "      <th>10702</th>\n",
       "      <td>32</td>\n",
       "      <td>2013</td>\n",
       "      <td>114</td>\n",
       "      <td>70052.0</td>\n",
       "      <td>48810.0</td>\n",
       "    </tr>\n",
       "    <tr>\n",
       "      <th>10703</th>\n",
       "      <td>32</td>\n",
       "      <td>2013</td>\n",
       "      <td>117</td>\n",
       "      <td>331481.0</td>\n",
       "      <td>927837.0</td>\n",
       "    </tr>\n",
       "  </tbody>\n",
       "</table>\n",
       "<p>10704 rows × 5 columns</p>\n",
       "</div>"
      ],
      "text/plain": [
       "       State  Year  Crop      Area  Production\n",
       "0          0  2000     2    4354.0      7200.0\n",
       "1          0  2000     7    1707.0     12714.0\n",
       "2          0  2000    22     800.0       219.0\n",
       "3          0  2000    28   25160.0  89000000.0\n",
       "4          0  2000    37     388.0      1220.0\n",
       "...      ...   ...   ...       ...         ...\n",
       "10699     32  2013   105   17021.0   1945042.0\n",
       "10700     32  2013   106    6434.0      8717.0\n",
       "10701     32  2013   110   12570.0     22287.0\n",
       "10702     32  2013   114   70052.0     48810.0\n",
       "10703     32  2013   117  331481.0    927837.0\n",
       "\n",
       "[10704 rows x 5 columns]"
      ]
     },
     "execution_count": 22,
     "metadata": {},
     "output_type": "execute_result"
    }
   ],
   "source": [
    "data"
   ]
  },
  {
   "cell_type": "markdown",
   "id": "ea76f158",
   "metadata": {},
   "source": [
    "QUESTION 5"
   ]
  },
  {
   "cell_type": "code",
   "execution_count": 23,
   "id": "d1ea76da",
   "metadata": {},
   "outputs": [],
   "source": [
    "from sklearn.model_selection import train_test_split"
   ]
  },
  {
   "cell_type": "code",
   "execution_count": 24,
   "id": "11aff954",
   "metadata": {},
   "outputs": [],
   "source": [
    "x=data[[\"State\",\"Year\",\"Crop\",\"Area\"]]\n",
    "y=data[\"Production\"]"
   ]
  },
  {
   "cell_type": "code",
   "execution_count": 25,
   "id": "191a5e83",
   "metadata": {},
   "outputs": [],
   "source": [
    "x_train, x_test, y_train, y_test = train_test_split(x, y, test_size=0.6, random_state=42)"
   ]
  },
  {
   "cell_type": "code",
   "execution_count": 26,
   "id": "50519159",
   "metadata": {},
   "outputs": [],
   "source": [
    "from sklearn.linear_model import LinearRegression"
   ]
  },
  {
   "cell_type": "code",
   "execution_count": 27,
   "id": "0dc42543",
   "metadata": {},
   "outputs": [
    {
     "data": {
      "text/plain": [
       "LinearRegression()"
      ]
     },
     "execution_count": 27,
     "metadata": {},
     "output_type": "execute_result"
    }
   ],
   "source": [
    "LR = LinearRegression()\n",
    "\n",
    "LR.fit(x_train,y_train)"
   ]
  },
  {
   "cell_type": "code",
   "execution_count": 28,
   "id": "f2bc0ecd",
   "metadata": {},
   "outputs": [
    {
     "data": {
      "text/plain": [
       "array([21210783.50262022, 12816735.65363121, 39265460.30021346, ...,\n",
       "       19799162.48972416, 12344764.8551836 , -7916116.16452801])"
      ]
     },
     "execution_count": 28,
     "metadata": {},
     "output_type": "execute_result"
    }
   ],
   "source": [
    "y_prediction =  LR.predict(x_test)\n",
    "y_prediction"
   ]
  },
  {
   "cell_type": "code",
   "execution_count": 29,
   "id": "4e6e9333",
   "metadata": {},
   "outputs": [
    {
     "data": {
      "text/plain": [
       "RandomForestRegressor(random_state=0)"
      ]
     },
     "execution_count": 29,
     "metadata": {},
     "output_type": "execute_result"
    }
   ],
   "source": [
    "from sklearn.ensemble import RandomForestRegressor\n",
    "\n",
    "regressor = RandomForestRegressor(n_estimators = 100, random_state = 0)\n",
    "  \n",
    "regressor.fit(x_test, y_test)"
   ]
  },
  {
   "cell_type": "code",
   "execution_count": 30,
   "id": "424fc430",
   "metadata": {},
   "outputs": [
    {
     "data": {
      "text/plain": [
       "array([1.68522000e+05, 1.77386023e+06, 1.47276182e+06, ...,\n",
       "       2.60944880e+05, 1.15833300e+03, 4.66757600e+04])"
      ]
     },
     "execution_count": 30,
     "metadata": {},
     "output_type": "execute_result"
    }
   ],
   "source": [
    "Y_pred = regressor.predict(x_test) \n",
    "Y_pred"
   ]
  },
  {
   "cell_type": "code",
   "execution_count": 31,
   "id": "3774adb8",
   "metadata": {},
   "outputs": [
    {
     "name": "stdout",
     "output_type": "stream",
     "text": [
      "Please enter state\n",
      "Karnataka\n"
     ]
    }
   ],
   "source": [
    "print(\"Please enter state\")\n",
    "state=input()"
   ]
  },
  {
   "cell_type": "code",
   "execution_count": 32,
   "id": "37b36528",
   "metadata": {},
   "outputs": [],
   "source": [
    "state=s.fit_transform([state])"
   ]
  },
  {
   "cell_type": "code",
   "execution_count": 33,
   "id": "93c9abcf",
   "metadata": {},
   "outputs": [
    {
     "name": "stdout",
     "output_type": "stream",
     "text": [
      "Please enter year\n",
      "2014\n"
     ]
    }
   ],
   "source": [
    "print(\"Please enter year\")\n",
    "year=int(input())"
   ]
  },
  {
   "cell_type": "code",
   "execution_count": 49,
   "id": "0c53e3d8",
   "metadata": {},
   "outputs": [
    {
     "data": {
      "text/plain": [
       "array(['Arecanut', 'Banana', 'Cashewnut', 'Coconut ', 'Dry ginger',\n",
       "       'Other Kharif pulses', 'other oilseeds', 'Rice', 'Sugarcane',\n",
       "       'Sweet potato', 'Tapioca', 'Black pepper', 'Dry chillies',\n",
       "       'Turmeric', 'Arhar/Tur', 'Groundnut', 'Maize', 'Moong(Green Gram)',\n",
       "       'Sunflower', 'Urad', 'Bajra', 'Castor seed', 'Coriander',\n",
       "       'Cotton(lint)', 'Gram', 'Horse-gram', 'Jowar', 'Korra', 'Linseed',\n",
       "       'Mesta', 'Niger seed', 'Onion', 'Other  Rabi pulses',\n",
       "       'other misc. pulses', 'Potato', 'Ragi', 'Rapeseed &Mustard',\n",
       "       'Safflower', 'Samai', 'Sesamum', 'Small millets', 'Tobacco',\n",
       "       'Varagu', 'Wheat', 'Beans & Mutter(Vegetable)', 'Bhindi',\n",
       "       'Bottle Gourd', 'Brinjal', 'Cabbage', 'Citrus Fruit', 'Cucumber',\n",
       "       'Grapes', 'Mango', 'Orange', 'other fibres', 'Other Fresh Fruits',\n",
       "       'Other Vegetables', 'Papaya', 'Peas  (vegetable)', 'Pome Fruit',\n",
       "       'Soyabean', 'Tomato', 'Garlic', 'Ginger', 'Cowpea(Lobia)', 'Lemon',\n",
       "       'Pome Granet', 'Sapota', 'Sannhamp', 'Oilseeds total',\n",
       "       'Pulses total', 'Jute', 'Masoor', 'Peas & beans (Pulses)',\n",
       "       'Pineapple', 'Blackgram', 'Paddy', 'Barley', 'Khesari',\n",
       "       'Guar seed', 'Moth', 'Other Cereals & Millets', 'Carrot', 'Redish',\n",
       "       'Turnip', 'Cardamom', 'Arcanut (Processed)', 'Atcanut (Raw)',\n",
       "       'Cashewnut Processed', 'Cashewnut Raw', 'Coffee', 'Rubber', 'Tea',\n",
       "       'Bitter Gourd', 'Drum Stick', 'Jack Fruit', 'Snak Guard',\n",
       "       'Pump Kin', 'Cauliflower', 'Other Citrus Fruit', 'Water Melon',\n",
       "       'Kapas', 'Bean', 'Colocosia', 'Jobster', 'Lentil', 'Perilla',\n",
       "       'Rajmash Kholar', 'Ricebean (nagadal)', 'Apple', 'Ash Gourd',\n",
       "       'Beet Root', 'Ber', 'Lab-Lab', 'Litchi', 'Peach', 'Pear', 'Plums',\n",
       "       'Ribed Guard', 'Yam', 'Other Dry Fruit', 'Jute & mesta'],\n",
       "      dtype=object)"
      ]
     },
     "execution_count": 49,
     "metadata": {},
     "output_type": "execute_result"
    }
   ],
   "source": [
    "crops"
   ]
  },
  {
   "cell_type": "code",
   "execution_count": 37,
   "id": "3a34d706",
   "metadata": {},
   "outputs": [
    {
     "name": "stdout",
     "output_type": "stream",
     "text": [
      "Please enter crop from the list of crops\n",
      "Rice\n"
     ]
    }
   ],
   "source": [
    "print (\"Please enter crop from the list of crops\")\n",
    "crop=[input()]"
   ]
  },
  {
   "cell_type": "code",
   "execution_count": 38,
   "id": "0a184c2e",
   "metadata": {},
   "outputs": [
    {
     "name": "stderr",
     "output_type": "stream",
     "text": [
      "c:\\users\\hp\\appdata\\local\\programs\\python\\python38\\lib\\site-packages\\sklearn\\utils\\validation.py:63: DataConversionWarning: A column-vector y was passed when a 1d array was expected. Please change the shape of y to (n_samples, ), for example using ravel().\n",
      "  return f(*args, **kwargs)\n"
     ]
    }
   ],
   "source": [
    "crop=s.fit_transform([crop])"
   ]
  },
  {
   "cell_type": "code",
   "execution_count": 39,
   "id": "5b2e3089",
   "metadata": {},
   "outputs": [
    {
     "name": "stdout",
     "output_type": "stream",
     "text": [
      "Please enter area\n",
      "100000.45\n"
     ]
    }
   ],
   "source": [
    "print(\"Please enter area\")\n",
    "area=float(input())"
   ]
  },
  {
   "cell_type": "code",
   "execution_count": 40,
   "id": "94db1c96",
   "metadata": {},
   "outputs": [
    {
     "data": {
      "text/plain": [
       "numpy.ndarray"
      ]
     },
     "execution_count": 40,
     "metadata": {},
     "output_type": "execute_result"
    }
   ],
   "source": [
    "type(crop)"
   ]
  },
  {
   "cell_type": "code",
   "execution_count": 41,
   "id": "87c5fc86",
   "metadata": {},
   "outputs": [
    {
     "name": "stderr",
     "output_type": "stream",
     "text": [
      "c:\\users\\hp\\appdata\\local\\programs\\python\\python38\\lib\\site-packages\\numpy\\core\\_asarray.py:102: VisibleDeprecationWarning: Creating an ndarray from ragged nested sequences (which is a list-or-tuple of lists-or-tuples-or ndarrays with different lengths or shapes) is deprecated. If you meant to do this, you must specify 'dtype=object' when creating the ndarray.\n",
      "  return array(a, dtype, copy=False, order=order)\n",
      "c:\\users\\hp\\appdata\\local\\programs\\python\\python38\\lib\\site-packages\\sklearn\\utils\\validation.py:63: FutureWarning: Arrays of bytes/strings is being converted to decimal numbers if dtype='numeric'. This behavior is deprecated in 0.24 and will be removed in 1.1 (renaming of 0.26). Please convert your data to numeric values explicitly instead.\n",
      "  return f(*args, **kwargs)\n"
     ]
    },
    {
     "data": {
      "text/plain": [
       "array([36234260.78018856])"
      ]
     },
     "execution_count": 41,
     "metadata": {},
     "output_type": "execute_result"
    }
   ],
   "source": [
    "x_test=[[state,year,crop,area]]\n",
    "y_prediction =  LR.predict(x_test)\n",
    "y_prediction"
   ]
  },
  {
   "cell_type": "code",
   "execution_count": 42,
   "id": "21a05ed9",
   "metadata": {},
   "outputs": [
    {
     "data": {
      "text/plain": [
       "array([1.37931869e+08])"
      ]
     },
     "execution_count": 42,
     "metadata": {},
     "output_type": "execute_result"
    }
   ],
   "source": [
    "x_test=[[state,year,crop,area]]\n",
    "Y_pred = regressor.predict(x_test) \n",
    "Y_pred"
   ]
  },
  {
   "cell_type": "code",
   "execution_count": 43,
   "id": "ceb94a44",
   "metadata": {},
   "outputs": [
    {
     "data": {
      "text/plain": [
       "0"
      ]
     },
     "execution_count": 43,
     "metadata": {},
     "output_type": "execute_result"
    }
   ],
   "source": [
    "data[\"State\"][1]"
   ]
  },
  {
   "cell_type": "code",
   "execution_count": null,
   "id": "eefa21e2",
   "metadata": {},
   "outputs": [],
   "source": []
  }
 ],
 "metadata": {
  "kernelspec": {
   "display_name": "Python 3",
   "language": "python",
   "name": "python3"
  },
  "language_info": {
   "codemirror_mode": {
    "name": "ipython",
    "version": 3
   },
   "file_extension": ".py",
   "mimetype": "text/x-python",
   "name": "python",
   "nbconvert_exporter": "python",
   "pygments_lexer": "ipython3",
   "version": "3.8.5"
  }
 },
 "nbformat": 4,
 "nbformat_minor": 5
}
